{
 "cells": [
  {
   "cell_type": "code",
   "execution_count": null,
   "id": "d321b48a-9bc8-458e-8c72-4a9417f408a8",
   "metadata": {},
   "outputs": [],
   "source": [
    "Exercise 2 - Create a markdown cell with the title of the notebook.\n",
    "\n",
    "# Data Science Notebook"
   ]
  },
  {
   "cell_type": "code",
   "execution_count": null,
   "id": "5fd8479c-bfb7-4471-b192-e1f27379e7f2",
   "metadata": {},
   "outputs": [],
   "source": [
    "## Introduction\n",
    "Welcome to this Data Science Notebook! In this notebook, we will explore various concepts and techniques in the field of data science.\n"
   ]
  },
  {
   "cell_type": "code",
   "execution_count": null,
   "id": "3c282f2f-74c9-4587-8743-5b1ce930dd15",
   "metadata": {},
   "outputs": [],
   "source": [
    "## Data Science Languages\n",
    "- Python\n",
    "- R\n",
    "- SQL\n"
   ]
  },
  {
   "cell_type": "code",
   "execution_count": null,
   "id": "079d02bc-05f5-489b-b64d-92b0cc035df4",
   "metadata": {},
   "outputs": [],
   "source": [
    "## Data Science Libraries\n",
    "- NumPy\n",
    "- Pandas\n",
    "- Matplotlib\n",
    "- Scikit-learn\n"
   ]
  },
  {
   "cell_type": "code",
   "execution_count": null,
   "id": "e16253bc-c643-452a-99f2-0a08b39c4732",
   "metadata": {},
   "outputs": [],
   "source": [
    "## Data Science Tools\n",
    "\n",
    "| Tool          | Description                        |\n",
    "|---------------|------------------------------------|\n",
    "| Jupyter       | Interactive computing environment  |\n",
    "| RStudio       | IDE for R programming              |\n",
    "| TensorFlow    | Machine learning framework         |\n",
    "| Spark         | Distributed computing framework    |\n"
   ]
  },
  {
   "cell_type": "code",
   "execution_count": null,
   "id": "80e332cc-b861-415c-9323-f5674de3bcc0",
   "metadata": {},
   "outputs": [],
   "source": [
    "## Arithmetic Expression Examples\n",
    "Let's explore some basic arithmetic operations in the following code cells.\n"
   ]
  },
  {
   "cell_type": "code",
   "execution_count": 1,
   "id": "88354193-8070-4a6f-933a-b9a59c477a66",
   "metadata": {},
   "outputs": [
    {
     "name": "stdout",
     "output_type": "stream",
     "text": [
      "Multiplication result: 50\n",
      "Addition result: 15\n"
     ]
    }
   ],
   "source": [
    "# Multiply and add numbers\n",
    "a = 5\n",
    "b = 10\n",
    "multiply_result = a * b\n",
    "add_result = a + b\n",
    "print(\"Multiplication result:\", multiply_result)\n",
    "print(\"Addition result:\", add_result)\n"
   ]
  },
  {
   "cell_type": "code",
   "execution_count": 2,
   "id": "1d822988-46ab-476a-ab71-647bf9353e9f",
   "metadata": {},
   "outputs": [
    {
     "name": "stdout",
     "output_type": "stream",
     "text": [
      "120 minutes is equal to 2.0 hours\n"
     ]
    }
   ],
   "source": [
    "# Convert minutes to hours\n",
    "minutes = 120\n",
    "hours = minutes / 60\n",
    "print(\"120 minutes is equal to\", hours, \"hours\")\n"
   ]
  },
  {
   "cell_type": "code",
   "execution_count": null,
   "id": "78c56193-12c0-4f46-b214-9d5364351cbe",
   "metadata": {},
   "outputs": [],
   "source": [
    "## Objectives\n",
    "- Learn about data science languages and libraries\n",
    "- Explore basic arithmetic operations\n",
    "- Convert units of time\n"
   ]
  },
  {
   "cell_type": "code",
   "execution_count": null,
   "id": "ffa6dbd6-116a-4e73-933e-913d5627c383",
   "metadata": {},
   "outputs": [],
   "source": [
    "## Author\n",
    "- [Anirudh Sharma]\n"
   ]
  },
  {
   "cell_type": "code",
   "execution_count": null,
   "id": "26d2753c-f48b-46eb-8065-b82675cf5f82",
   "metadata": {},
   "outputs": [],
   "source": []
  }
 ],
 "metadata": {
  "kernelspec": {
   "display_name": "Python 3 (ipykernel)",
   "language": "python",
   "name": "python3"
  },
  "language_info": {
   "codemirror_mode": {
    "name": "ipython",
    "version": 3
   },
   "file_extension": ".py",
   "mimetype": "text/x-python",
   "name": "python",
   "nbconvert_exporter": "python",
   "pygments_lexer": "ipython3",
   "version": "3.12.1"
  }
 },
 "nbformat": 4,
 "nbformat_minor": 5
}
